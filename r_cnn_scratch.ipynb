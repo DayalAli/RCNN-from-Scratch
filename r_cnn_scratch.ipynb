{
 "cells": [
  {
   "cell_type": "code",
   "execution_count": null,
   "metadata": {},
   "outputs": [
    {
     "name": "stdout",
     "output_type": "stream",
     "text": [
      "Classification logits shape: (1, 21)\n",
      "Bounding box logits shape: (1, 4)\n",
      "RPN classification logits shape: (1, 7, 7, 1)\n",
      "RPN bounding box logits shape: (1, 7, 7, 4)\n"
     ]
    }
   ],
   "source": [
    "import tensorflow as tf\n",
    "\n",
    "class RCNN(tf.keras.Model):\n",
    "    def __init__(self, num_classes):\n",
    "        super(RCNN, self).__init__()    \n",
    "        \n",
    "        # Feature extractor (typically uses a pre-trained CNN like ResNet or VGG)\n",
    "        self.backbone = tf.keras.applications.ResNet50(include_top=False, input_shape=(224, 224, 3))\n",
    "        self.pooling_layer = tf.keras.layers.GlobalAveragePooling2D()\n",
    "        \n",
    "        # Region Proposal Network (RPN) Head\n",
    "        self.rpn_conv = tf.keras.layers.Conv2D(512, (3, 3), padding='same', activation='relu')\n",
    "        self.rpn_class = tf.keras.layers.Conv2D(1, (1, 1), activation='sigmoid')  # Objectness score\n",
    "        self.rpn_bbox = tf.keras.layers.Conv2D(4, (1, 1))  # Bounding box adjustments\n",
    "\n",
    "        # ROI pooling (just a placeholder for demonstration, would need an actual ROI pooling layer)\n",
    "        self.roi_pooling = tf.keras.layers.GlobalAveragePooling2D() \n",
    "        \n",
    "        # Classification head\n",
    "        self.fc1 = tf.keras.layers.Dense(1024, activation='relu')\n",
    "        self.fc2 = tf.keras.layers.Dense(1024, activation='relu')\n",
    "        self.classifier = tf.keras.layers.Dense(num_classes, activation='softmax')  # Class prediction\n",
    "        self.regressor = tf.keras.layers.Dense(4)\n",
    "\n",
    "    def call(self, inputs):\n",
    "        # Step 1: Backbone Feature Extraction\n",
    "        feature_map = self.backbone(inputs)\n",
    "        \n",
    "        # Step 2: Region Proposal Network (RPN)\n",
    "        rpn_output = self.rpn_conv(feature_map)\n",
    "        rpn_class_logits = self.rpn_class(rpn_output)\n",
    "        rpn_bbox_logits = self.rpn_bbox(rpn_output)\n",
    "        \n",
    "        # Step 3: ROI Pooling (Placeholder: using global pooling)\n",
    "        roi_pooled = self.roi_pooling(feature_map)\n",
    "        \n",
    "        # Step 4: Classification and Regression Heads\n",
    "        x = self.fc1(roi_pooled)\n",
    "        x = self.fc2(x)\n",
    "        class_logits = self.classifier(x)\n",
    "        bbox_logits = self.regressor(x)\n",
    "        \n",
    "        return class_logits, bbox_logits, rpn_class_logits, rpn_bbox_logits\n",
    "\n"
   ]
  },
  {
   "cell_type": "code",
   "execution_count": 11,
   "metadata": {},
   "outputs": [
    {
     "name": "stdout",
     "output_type": "stream",
     "text": [
      "Classification logits shape: (1, 21)\n",
      "Bounding box logits shape: (1, 4)\n",
      "RPN classification logits shape: (1, 7, 7, 1)\n",
      "RPN bounding box logits shape: (1, 7, 7, 4)\n"
     ]
    }
   ],
   "source": [
    "num_classes = 21  # Example: 20 classes + 1 background\n",
    "rcnn_model = RCNN(num_classes)\n",
    "\n",
    "# Dummy input image of shape (batch_size, height, width, channels)\n",
    "input_image = tf.random.normal([1, 224, 224, 3])\n",
    "\n",
    "# Forward pass\n",
    "class_logits, bbox_logits, rpn_class_logits, rpn_bbox_logits = rcnn_model(input_image)\n",
    "print(\"Classification logits shape:\", class_logits.shape)\n",
    "print(\"Bounding box logits shape:\", bbox_logits.shape)\n",
    "print(\"RPN classification logits shape:\", rpn_class_logits.shape)\n",
    "print(\"RPN bounding box logits shape:\", rpn_bbox_logits.shape)"
   ]
  },
  {
   "cell_type": "code",
   "execution_count": 2,
   "metadata": {},
   "outputs": [
    {
     "data": {
      "text/plain": [
       "<tf.Tensor: shape=(1, 4), dtype=float32, numpy=\n",
       "array([[-0.1180391 , -0.71070844,  0.73670226, -0.18917577]],\n",
       "      dtype=float32)>"
      ]
     },
     "execution_count": 2,
     "metadata": {},
     "output_type": "execute_result"
    }
   ],
   "source": [
    "bbox_logits"
   ]
  },
  {
   "cell_type": "code",
   "execution_count": 3,
   "metadata": {},
   "outputs": [
    {
     "data": {
      "text/plain": [
       "TensorShape([1, 224, 224, 3])"
      ]
     },
     "execution_count": 3,
     "metadata": {},
     "output_type": "execute_result"
    }
   ],
   "source": [
    "input_image.shape"
   ]
  },
  {
   "cell_type": "code",
   "execution_count": 4,
   "metadata": {},
   "outputs": [],
   "source": [
    "import cv2"
   ]
  },
  {
   "cell_type": "code",
   "execution_count": 5,
   "metadata": {},
   "outputs": [],
   "source": [
    "PATH = r\"C:\\Abdul Saboor\\High Imapact Program\\Module 8_1\\images.jpg\"\n",
    "\n",
    "def load_img(img_path):\n",
    "    img = cv2.imread(img_path)\n",
    "    img = cv2.cvtColor(img, cv2.COLOR_BGR2RGB)\n",
    "\n",
    "    sample_image_t = tf.constant(img, dtype=tf.uint8)\n",
    "    sample_image_t = tf.image.resize(sample_image_t, size=(224, 224))\n",
    "    sample_image_t = tf.expand_dims(sample_image_t, axis=0)\n",
    "    return sample_image_t\n",
    "\n",
    "image_np = load_img(PATH)"
   ]
  },
  {
   "cell_type": "code",
   "execution_count": 6,
   "metadata": {},
   "outputs": [
    {
     "data": {
      "text/plain": [
       "TensorShape([1, 224, 224, 3])"
      ]
     },
     "execution_count": 6,
     "metadata": {},
     "output_type": "execute_result"
    }
   ],
   "source": [
    "image_np.shape"
   ]
  },
  {
   "cell_type": "code",
   "execution_count": 7,
   "metadata": {},
   "outputs": [],
   "source": [
    "rcnn_model = RCNN(num_classes)"
   ]
  },
  {
   "cell_type": "code",
   "execution_count": 8,
   "metadata": {},
   "outputs": [
    {
     "name": "stdout",
     "output_type": "stream",
     "text": [
      "Classification logits shape: (1, 21)\n",
      "Bounding box logits shape: (1, 4)\n",
      "RPN classification logits shape: (1, 7, 7, 1)\n",
      "RPN bounding box logits shape: (1, 7, 7, 4)\n"
     ]
    }
   ],
   "source": [
    "class_logits, bbox_logits, rpn_class_logits, rpn_bbox_logits = rcnn_model(image_np)\n",
    "print(\"Classification logits shape:\", class_logits.shape)\n",
    "print(\"Bounding box logits shape:\", bbox_logits.shape)\n",
    "print(\"RPN classification logits shape:\", rpn_class_logits.shape)\n",
    "print(\"RPN bounding box logits shape:\", rpn_bbox_logits.shape)"
   ]
  },
  {
   "cell_type": "code",
   "execution_count": 9,
   "metadata": {},
   "outputs": [
    {
     "data": {
      "text/plain": [
       "tensorflow.python.framework.ops.EagerTensor"
      ]
     },
     "execution_count": 9,
     "metadata": {},
     "output_type": "execute_result"
    }
   ],
   "source": [
    "type(bbox_logits)"
   ]
  },
  {
   "cell_type": "code",
   "execution_count": 10,
   "metadata": {},
   "outputs": [
    {
     "data": {
      "text/plain": [
       "<tf.Tensor: shape=(1, 21), dtype=float32, numpy=\n",
       "array([[0.07997061, 0.02919159, 0.08195425, 0.04333873, 0.05308235,\n",
       "        0.03456607, 0.03332048, 0.08424754, 0.02428325, 0.04586925,\n",
       "        0.08789396, 0.0151935 , 0.02786977, 0.11036954, 0.04872915,\n",
       "        0.03229164, 0.02892794, 0.05933132, 0.01798878, 0.02226914,\n",
       "        0.03931108]], dtype=float32)>"
      ]
     },
     "execution_count": 10,
     "metadata": {},
     "output_type": "execute_result"
    }
   ],
   "source": [
    "class_logits"
   ]
  },
  {
   "cell_type": "code",
   "execution_count": null,
   "metadata": {},
   "outputs": [],
   "source": []
  }
 ],
 "metadata": {
  "kernelspec": {
   "display_name": "machinelearn",
   "language": "python",
   "name": "python3"
  },
  "language_info": {
   "codemirror_mode": {
    "name": "ipython",
    "version": 3
   },
   "file_extension": ".py",
   "mimetype": "text/x-python",
   "name": "python",
   "nbconvert_exporter": "python",
   "pygments_lexer": "ipython3",
   "version": "3.12.4"
  }
 },
 "nbformat": 4,
 "nbformat_minor": 2
}
